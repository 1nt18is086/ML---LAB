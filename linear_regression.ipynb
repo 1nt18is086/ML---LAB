{
 "cells": [
  {
   "cell_type": "code",
   "execution_count": 3,
   "id": "592ba110",
   "metadata": {},
   "outputs": [],
   "source": [
    "import pandas as pd"
   ]
  },
  {
   "cell_type": "code",
   "execution_count": 4,
   "id": "dced79d0",
   "metadata": {},
   "outputs": [],
   "source": [
    "import matplotlib.pyplot as plt"
   ]
  },
  {
   "cell_type": "code",
   "execution_count": 6,
   "id": "f69fe5d9",
   "metadata": {},
   "outputs": [],
   "source": [
    "df = pd.read_csv('E:/food_truck_data.csv', header=None)"
   ]
  },
  {
   "cell_type": "markdown",
   "id": "b04dc1b1",
   "metadata": {},
   "source": [
    "df.head()"
   ]
  },
  {
   "cell_type": "code",
   "execution_count": 8,
   "id": "9c387448",
   "metadata": {},
   "outputs": [],
   "source": [
    "\n",
    "\n",
    "X = list(df[0])\n",
    "Y = list(df[1])\n",
    "\n"
   ]
  },
  {
   "cell_type": "code",
   "execution_count": 9,
   "id": "0f92ab17",
   "metadata": {},
   "outputs": [],
   "source": [
    "def plot_line(x, y, color=\"blue\"):\n",
    "    plt.xlabel('population')\n",
    "    plt.ylabel('profit')\n",
    "    plt.plot(x,y,color)\n",
    "    plt.show()"
   ]
  },
  {
   "cell_type": "code",
   "execution_count": 10,
   "id": "640b4a92",
   "metadata": {},
   "outputs": [],
   "source": [
    "def evaluate_fit(y, y_mean, y_pred, n):\n",
    "    '''\n",
    "    desc : function eto valuate the line fit by\n",
    "        calculating the coeff of determination\n",
    "    '''\n",
    "    sse  = 0 #sum of squared errors\n",
    "    ssr = 0 #sum of squared residuals\n",
    "    sst = 0 #sum of squared total S.S.T = S.S.R + S.S.E\n",
    "    r_sq = 0 #r^2 or coeff of determination\n",
    "    \n",
    "    for i in range(n):\n",
    "        sse += (y[i] - y_pred[i]) ** 2\n",
    "        ssr += (y[i] - y_mean) ** 2\n",
    "    \n",
    "    sst = sse + ssr\n",
    "    \n",
    "    r_sq = 1 - (sse / sst)\n",
    "    \n",
    "    return sse, ssr, sst, r_sq"
   ]
  },
  {
   "cell_type": "code",
   "execution_count": 11,
   "id": "efe79d29",
   "metadata": {},
   "outputs": [],
   "source": [
    "x_sum, y_sum, xy_sum, x2_sum, y2_sum = 0, 0, 0, 0, 0\n",
    "n = len(X)\n",
    "\n",
    "for x,y in zip(X,Y):\n",
    "    x_sum += x\n",
    "    y_sum += y\n",
    "    xy_sum += (x*y)\n",
    "    x2_sum += (x ** 2)\n",
    "    y2_sum += (y ** 2)\n",
    "\n",
    "x_mean = x_sum/n\n",
    "y_mean = y_sum/n"
   ]
  },
  {
   "cell_type": "code",
   "execution_count": 13,
   "id": "5d6dfea5",
   "metadata": {},
   "outputs": [],
   "source": [
    "x_std, y_std = 0, 0 #standard deviations\n",
    "\n",
    "for x,y in zip(X,Y):\n",
    "    x_std += ((x - x_mean) ** 2)\n",
    "    y_std += ((y - y_mean) ** 2)\n",
    "\n",
    "x_std = (x_std/n) ** 0.5\n",
    "y_std = (y_std/n) ** 0.5"
   ]
  },
  {
   "cell_type": "code",
   "execution_count": 14,
   "id": "be346401",
   "metadata": {},
   "outputs": [
    {
     "data": {
      "text/plain": [
       "0.9040642647654091"
      ]
     },
     "execution_count": 14,
     "metadata": {},
     "output_type": "execute_result"
    }
   ],
   "source": [
    "#coeff of regression\n",
    "r = xy_sum/((x2_sum*y2_sum) ** 0.5)\n",
    "r"
   ]
  },
  {
   "cell_type": "code",
   "execution_count": 15,
   "id": "fa2ec407",
   "metadata": {},
   "outputs": [],
   "source": [
    "#slope\n",
    "m = r * (y_std/x_std)"
   ]
  },
  {
   "cell_type": "code",
   "execution_count": 17,
   "id": "ead05fab",
   "metadata": {},
   "outputs": [],
   "source": [
    "#intercept\n",
    "c = y_mean - (m*x_mean)"
   ]
  },
  {
   "cell_type": "code",
   "execution_count": 18,
   "id": "f1a52763",
   "metadata": {},
   "outputs": [],
   "source": [
    "#make a prediction\n",
    "y_pred = []\n",
    "\n",
    "for x in X:\n",
    "    y_pred.append(m*x + c) #Y = mX + c"
   ]
  },
  {
   "cell_type": "code",
   "execution_count": 19,
   "id": "5286369e",
   "metadata": {},
   "outputs": [
    {
     "data": {
      "image/png": "[encoded data removed]",
      "text/plain": [
       "<Figure size 432x288 with 1 Axes>"
      ]
     },
     "metadata": {
      "needs_background": "light"
     },
     "output_type": "display_data"
    }
   ],
   "source": [
    "plt.scatter(X,Y, color=\"black\")\n",
    "plot_line(X, y_pred, color=\"red\")"
   ]
  },
  {
   "cell_type": "code",
   "execution_count": 20,
   "id": "3aab7708",
   "metadata": {},
   "outputs": [
    {
     "name": "stdout",
     "output_type": "stream",
     "text": [
      "Coeff of determination is 0.7678429232908196 or 76.78429232908196%\n"
     ]
    }
   ],
   "source": [
    "#Evaluation of fit: calculate R^2 value\n",
    "_, _, _, r2_val = evaluate_fit(Y, y_mean, y_pred, n)\n",
    "print(f\"Coeff of determination is {r2_val} or {r2_val * 100}%\")"
   ]
  },
  {
   "cell_type": "code",
   "execution_count": 21,
   "id": "bc27d991",
   "metadata": {},
   "outputs": [],
   "source": [
    "#Gradient descent algo\n",
    "def gradient_descent(X, Y, m, c, alpha):\n",
    "    '''\n",
    "    desc: Gradient step function\n",
    "    X, Y : data points\n",
    "    m : slope\n",
    "    c : intercept\n",
    "    alpha : learning rate\n",
    "    '''\n",
    "    y_pred = []\n",
    "    for x in X:\n",
    "        y_pred.append(m*x + c)\n",
    "    \n",
    "    m_grad = 0\n",
    "    c_grad = 0\n",
    "    #calculate gradients\n",
    "    for i, (x, y) in enumerate(zip(X,Y)):\n",
    "        m_grad += -(2 / n) * x * (y - y_pred[i])\n",
    "        c_grad += -(2 / n) * (y - y_pred[i])\n",
    "    \n",
    "    #update slope and intercept\n",
    "    m -= (alpha * m_grad)\n",
    "    c -= (alpha * c_grad)\n",
    "    \n",
    "    return m, c, y_pred"
   ]
  },
  {
   "cell_type": "code",
   "execution_count": 22,
   "id": "56fb19c7",
   "metadata": {},
   "outputs": [
    {
     "data": {
      "text/plain": [
       "[3.1862201479088377,\n",
       " 2.45995132910714,\n",
       " 6.189685893245185,\n",
       " 4.299940412455191,\n",
       " 2.874089163454742,\n",
       " 6.020464260842385,\n",
       " 4.890033827731571,\n",
       " 6.263884029781416,\n",
       " 3.6552271924681072,\n",
       " 1.8699826165812405]"
      ]
     },
     "execution_count": 22,
     "metadata": {},
     "output_type": "execute_result"
    }
   ],
   "source": [
    "#Train a learner to calc best fit line\n",
    "def train_to_fit(X, Y, m, c, alpha, iterr=50):\n",
    "    preds = []\n",
    "    for _ in range(iterr):\n",
    "        m, c, preds = gradient_descent(X, Y, m, c, alpha)\n",
    "    \n",
    "    return preds\n",
    "\n",
    "#training setup\n",
    "lr = 0.0001 #learning rate\n",
    "maxiterr = 10000\n",
    "\n",
    "y_pred = train_to_fit(X, Y, m, c, alpha=lr, iterr=maxiterr)\n",
    "\n",
    "y_pred[:10]\n",
    "\n"
   ]
  },
  {
   "cell_type": "code",
   "execution_count": 23,
   "id": "225c1102",
   "metadata": {},
   "outputs": [
    {
     "data": {
      "image/png": "[encoded data removed]",
      "text/plain": [
       "<Figure size 432x288 with 1 Axes>"
      ]
     },
     "metadata": {
      "needs_background": "light"
     },
     "output_type": "display_data"
    }
   ],
   "source": [
    "plt.scatter(X,Y, color=\"black\")\n",
    "plot_line(X, y_pred, color=\"red\")"
   ]
  },
  {
   "cell_type": "code",
   "execution_count": 24,
   "id": "cd6e93bf",
   "metadata": {},
   "outputs": [
    {
     "name": "stdout",
     "output_type": "stream",
     "text": [
      "Coeff of determination is 0.7693972323283584 or 76.93972323283585%\n"
     ]
    }
   ],
   "source": [
    "_, _, _, r2_val = evaluate_fit(Y, y_mean, y_pred, n)\n",
    "print(f\"Coeff of determination is {r2_val} or {r2_val * 100}%\")"
   ]
  },
  {
   "cell_type": "markdown",
   "id": "7d40e09a",
   "metadata": {},
   "source": []
  }
 ],
 "metadata": {
  "kernelspec": {
   "display_name": "Python 3",
   "language": "python",
   "name": "python3"
  },
  "language_info": {
   "codemirror_mode": {
    "name": "ipython",
    "version": 3
   },
   "file_extension": ".py",
   "mimetype": "text/x-python",
   "name": "python",
   "nbconvert_exporter": "python",
   "pygments_lexer": "ipython3",
   "version": "3.8.8"
  }
 },
 "nbformat": 4,
 "nbformat_minor": 5
}
