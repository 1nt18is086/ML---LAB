{
 "cells": [
  {
   "cell_type": "code",
   "execution_count": 1,
   "id": "06cd4b76",
   "metadata": {},
   "outputs": [],
   "source": [
    "X = [[5.9, 3.2], [4.6,2.9], [6.2, 2.8], [4.7, 3.2], [5.5, 4.2], [5.0, 3.0], [4.9, 3.1], [6.7, 3.1], [5.1, 3.8], [6.0, 3.0]]"
   ]
  },
  {
   "cell_type": "code",
   "execution_count": 2,
   "id": "516df274",
   "metadata": {},
   "outputs": [],
   "source": [
    "import math"
   ]
  },
  {
   "cell_type": "code",
   "execution_count": 3,
   "id": "7d30092c",
   "metadata": {},
   "outputs": [],
   "source": [
    "def euc_dist(x1, x2, y1, y2):\n",
    "    '''\n",
    "    Returns the euclidean distance between the given points.\n",
    "    '''\n",
    "    res = (((x2 - x1) ** 2) + ((y2 - y1) ** 2)) ** 0.5\n",
    "    return res"
   ]
  },
  {
   "cell_type": "code",
   "execution_count": 4,
   "id": "ecc7a1ba",
   "metadata": {},
   "outputs": [],
   "source": [
    "#classify each datapoint to closest centroid \n",
    "def kMeans(X, centroids, clusters, k=3):\n",
    "    for i in range(k):\n",
    "        clusters[i] = []\n",
    "    for datapoint in range(len(X)):\n",
    "        dist = []\n",
    "        for c in range(k):\n",
    "            dist.append(euc_dist(centroids[c][0], X[datapoint][0], centroids[c][1], X[datapoint][1]))\n",
    "        clusters[dist.index(min(dist))].append(X[datapoint])\n",
    "        \n",
    "    return clusters"
   ]
  },
  {
   "cell_type": "code",
   "execution_count": 5,
   "id": "d2c3143d",
   "metadata": {},
   "outputs": [],
   "source": [
    "#take mean of each cluster and make that as the new centroid\n",
    "def new_cent(X, centroids, clusters, k=3):\n",
    "    for i in range(k):\n",
    "        x_sum = sum([point[0] for point in clusters[i]])\n",
    "        y_sum = sum([point[1] for point in clusters[i]])\n",
    "        centroids[i] = [round(x_sum / len(clusters[i]), 3), round(y_sum / len(clusters[i]), 3)]\n",
    "        \n",
    "    return centroids"
   ]
  },
  {
   "cell_type": "code",
   "execution_count": 6,
   "id": "3ac205de",
   "metadata": {},
   "outputs": [
    {
     "name": "stdout",
     "output_type": "stream",
     "text": [
      "Centroid for cluster 0 after iterration 1 : [5.171, 3.171]\n"
     ]
    }
   ],
   "source": [
    "def run_algo(X, centroids, clusters, k=3, iterr=6, which=1):\n",
    "    for i in range(iterr):\n",
    "        clusters = kMeans(X=X, centroids=centroids, clusters=clusters, k=k)\n",
    "        centroids = new_cent(X=X, centroids=centroids, clusters=clusters, k=k)\n",
    "        \n",
    "        print(f\"Centroid for cluster {which} after iterration {i+1} : {centroids[which]}\")\n",
    "\n",
    "#Setup\n",
    "k = 3\n",
    "clusters = {}\n",
    "centroids = [[6.2, 3.2], [6.6, 3.7], [6.5, 3.0]]\n",
    "\n",
    "run_algo(X, centroids, clusters, k, 1, 0)\n",
    "\n"
   ]
  },
  {
   "cell_type": "code",
   "execution_count": 7,
   "id": "6d618ed9",
   "metadata": {},
   "outputs": [
    {
     "name": "stdout",
     "output_type": "stream",
     "text": [
      "Centroid for cluster 1 after iterration 1 : [5.3, 4.0]\n",
      "Centroid for cluster 1 after iterration 2 : [5.3, 4.0]\n"
     ]
    }
   ],
   "source": [
    "run_algo(X, centroids, clusters, k, 2, 1)"
   ]
  },
  {
   "cell_type": "code",
   "execution_count": 8,
   "id": "b28fc02e",
   "metadata": {},
   "outputs": [
    {
     "name": "stdout",
     "output_type": "stream",
     "text": [
      "Centroid for cluster 2 after iterration 1 : [6.2, 3.025]\n",
      "Centroid for cluster 2 after iterration 2 : [6.2, 3.025]\n",
      "Centroid for cluster 2 after iterration 3 : [6.2, 3.025]\n",
      "Centroid for cluster 2 after iterration 4 : [6.2, 3.025]\n"
     ]
    }
   ],
   "source": [
    "run_algo(X, centroids, clusters, k, 4, 2)"
   ]
  },
  {
   "cell_type": "code",
   "execution_count": null,
   "id": "1977d7dc",
   "metadata": {},
   "outputs": [],
   "source": []
  }
 ],
 "metadata": {
  "kernelspec": {
   "display_name": "Python 3",
   "language": "python",
   "name": "python3"
  },
  "language_info": {
   "codemirror_mode": {
    "name": "ipython",
    "version": 3
   },
   "file_extension": ".py",
   "mimetype": "text/x-python",
   "name": "python",
   "nbconvert_exporter": "python",
   "pygments_lexer": "ipython3",
   "version": "3.8.8"
  }
 },
 "nbformat": 4,
 "nbformat_minor": 5
}
