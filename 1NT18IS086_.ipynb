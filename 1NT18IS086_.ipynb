{
 "cells": [
  {
   "cell_type": "code",
   "execution_count": 1,
   "metadata": {},
   "outputs": [
    {
     "name": "stdout",
     "output_type": "stream",
     "text": [
      "[115.3, 195.5, 120.5, 110.2, 90.4, 105.6, 110.9, 116.3, 122.3, 125.4]\n"
     ]
    }
   ],
   "source": [
    "newTestlist = [115.3,195.5,120.5,110.2,90.4,105.6,110.9,116.3,122.3,125.4]\n",
    "print(newTestlist)\n"
   ]
  },
  {
   "cell_type": "code",
   "execution_count": 4,
   "metadata": {},
   "outputs": [
    {
     "name": "stdout",
     "output_type": "stream",
     "text": [
      "10\n"
     ]
    }
   ],
   "source": [
    "n=len(newTestlist)\n",
    "print(n)"
   ]
  },
  {
   "cell_type": "code",
   "execution_count": 5,
   "metadata": {},
   "outputs": [
    {
     "name": "stdout",
     "output_type": "stream",
     "text": [
      "1212.4\n"
     ]
    }
   ],
   "source": [
    "m= sum(newTestlist)\n",
    "print(m)"
   ]
  },
  {
   "cell_type": "code",
   "execution_count": 6,
   "metadata": {},
   "outputs": [
    {
     "name": "stdout",
     "output_type": "stream",
     "text": [
      "121.24000000000001\n"
     ]
    }
   ],
   "source": [
    "mean = m/n\n",
    "print(mean)"
   ]
  },
  {
   "cell_type": "code",
   "execution_count": 7,
   "metadata": {},
   "outputs": [
    {
     "name": "stdout",
     "output_type": "stream",
     "text": [
      "[90.4, 105.6, 110.2, 110.9, 115.3, 116.3, 120.5, 122.3, 125.4, 195.5]\n"
     ]
    }
   ],
   "source": [
    "newTestlist.sort()\n",
    "print(newTestlist)"
   ]
  },
  {
   "cell_type": "code",
   "execution_count": 12,
   "metadata": {},
   "outputs": [
    {
     "name": "stdout",
     "output_type": "stream",
     "text": [
      "Median is: 115.8\n"
     ]
    }
   ],
   "source": [
    "if n % 2 == 0:\n",
    "    median1 = newTestlist[n//2]\n",
    "    median2 = newTestlist[n//2 - 1]\n",
    "    median = (median1 + median2)/2\n",
    "else:\n",
    "    median = newTestlist[n//2]\n",
    "print(\"Median is: \" + str(median))\n"
   ]
  },
  {
   "cell_type": "code",
   "execution_count": 22,
   "metadata": {},
   "outputs": [
    {
     "name": "stdout",
     "output_type": "stream",
     "text": [
      "{195.5, 122.3, 105.6, 110.9, 110.2, 115.3, 116.3, 120.5, 90.4, 125.4}:1\n"
     ]
    }
   ],
   "source": [
    "L1=[]\n",
    "i = 0\n",
    "while i < len(newTestlist) :\n",
    "    L1.append(newTestlist.count(newTestlist[i]))\n",
    "    i += 1\n",
    "d1 = dict(zip(newTestlist, L1))\n",
    "\n",
    "\n",
    "d2={k for (k,v) in d1.items() if v == max(L1) }\n",
    "\n",
    "print(str(d2)+\":\"+str(max(L1)))"
   ]
  },
  {
   "cell_type": "code",
   "execution_count": 27,
   "metadata": {},
   "outputs": [],
   "source": [
    "def variance(newTestlist):\n",
    "    \n",
    "  n = len(newTestlist)\n",
    "   \n",
    "  mean = sum(newTestlist) / n\n",
    "   \n",
    "  deviations = [(x - mean) ** 2 for x in newTestlist]\n",
    "    \n",
    "  variance = sum(deviations) / n\n",
    "  return variance"
   ]
  },
  {
   "cell_type": "code",
   "execution_count": 24,
   "metadata": {},
   "outputs": [],
   "source": [
    "def stdev(newTestlist):\n",
    "  import math\n",
    "  var = variance(newTestlist)\n",
    "  std_dev = math.sqrt(var)\n",
    "  return std_dev"
   ]
  },
  {
   "cell_type": "code",
   "execution_count": 25,
   "metadata": {},
   "outputs": [
    {
     "name": "stdout",
     "output_type": "stream",
     "text": [
      "Standard Deviation of the sample is 26.490987146574962 \n"
     ]
    }
   ],
   "source": [
    "print(\"Standard Deviation of the sample is % s \"% (stdev(newTestlist)))"
   ]
  },
  {
   "cell_type": "code",
   "execution_count": null,
   "metadata": {},
   "outputs": [],
   "source": []
  }
 ],
 "metadata": {
  "kernelspec": {
   "display_name": "Python 3",
   "language": "python",
   "name": "python3"
  },
  "language_info": {
   "codemirror_mode": {
    "name": "ipython",
    "version": 3
   },
   "file_extension": ".py",
   "mimetype": "text/x-python",
   "name": "python",
   "nbconvert_exporter": "python",
   "pygments_lexer": "ipython3",
   "version": "3.6.9"
  }
 },
 "nbformat": 4,
 "nbformat_minor": 2
}
